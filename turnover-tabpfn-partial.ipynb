{
 "cells": [
  {
   "cell_type": "code",
   "execution_count": 1,
   "metadata": {
    "_cell_guid": "b1076dfc-b9ad-4769-8c92-a6c4dae69d19",
    "_uuid": "8f2839f25d086af736a60e9eeb907d3b93b6e0e5",
    "execution": {
     "iopub.execute_input": "2025-01-15T19:40:58.863525Z",
     "iopub.status.busy": "2025-01-15T19:40:58.863192Z",
     "iopub.status.idle": "2025-01-15T19:41:06.591100Z",
     "shell.execute_reply": "2025-01-15T19:41:06.589889Z",
     "shell.execute_reply.started": "2025-01-15T19:40:58.863488Z"
    },
    "trusted": true
   },
   "outputs": [],
   "source": [
    "import pandas as pd\n",
    "import seaborn as sns\n",
    "from sklearn.preprocessing import OrdinalEncoder, LabelEncoder,MinMaxScaler\n",
    "from sklearn.feature_selection import mutual_info_classif\n",
    "from sklearn.model_selection import train_test_split\n",
    "import torch\n",
    "import torch.nn as nn\n",
    "import torch.optim as optim\n",
    "from sklearn.model_selection import train_test_split\n",
    "from sklearn.metrics import accuracy_score\n",
    "import matplotlib.pyplot as plt\n",
    "import numpy as np\n",
    "import torch.nn.functional as F"
   ]
  },
  {
   "cell_type": "markdown",
   "metadata": {},
   "source": []
  },
  {
   "cell_type": "code",
   "execution_count": 2,
   "metadata": {
    "execution": {
     "iopub.execute_input": "2025-01-15T19:42:22.351502Z",
     "iopub.status.busy": "2025-01-15T19:42:22.351175Z",
     "iopub.status.idle": "2025-01-15T19:42:23.599057Z",
     "shell.execute_reply": "2025-01-15T19:42:23.597924Z",
     "shell.execute_reply.started": "2025-01-15T19:42:22.351478Z"
    },
    "trusted": true
   },
   "outputs": [],
   "source": [
    "df = pd.read_excel('/kaggle/input/employee-turnover/Expanded_Workers_Turnover_Data_1000.xlsx')"
   ]
  },
  {
   "cell_type": "code",
   "execution_count": 3,
   "metadata": {
    "execution": {
     "iopub.execute_input": "2025-01-15T19:42:39.701050Z",
     "iopub.status.busy": "2025-01-15T19:42:39.700462Z",
     "iopub.status.idle": "2025-01-15T19:42:39.752945Z",
     "shell.execute_reply": "2025-01-15T19:42:39.751732Z",
     "shell.execute_reply.started": "2025-01-15T19:42:39.700996Z"
    },
    "trusted": true
   },
   "outputs": [
    {
     "name": "stderr",
     "output_type": "stream",
     "text": [
      "/usr/local/lib/python3.10/dist-packages/pandas/io/formats/format.py:1458: RuntimeWarning: invalid value encountered in greater\n",
      "  has_large_values = (abs_vals > 1e6).any()\n",
      "/usr/local/lib/python3.10/dist-packages/pandas/io/formats/format.py:1459: RuntimeWarning: invalid value encountered in less\n",
      "  has_small_values = ((abs_vals < 10 ** (-self.digits)) & (abs_vals > 0)).any()\n",
      "/usr/local/lib/python3.10/dist-packages/pandas/io/formats/format.py:1459: RuntimeWarning: invalid value encountered in greater\n",
      "  has_small_values = ((abs_vals < 10 ** (-self.digits)) & (abs_vals > 0)).any()\n",
      "/usr/local/lib/python3.10/dist-packages/pandas/io/formats/format.py:1458: RuntimeWarning: invalid value encountered in greater\n",
      "  has_large_values = (abs_vals > 1e6).any()\n",
      "/usr/local/lib/python3.10/dist-packages/pandas/io/formats/format.py:1459: RuntimeWarning: invalid value encountered in less\n",
      "  has_small_values = ((abs_vals < 10 ** (-self.digits)) & (abs_vals > 0)).any()\n",
      "/usr/local/lib/python3.10/dist-packages/pandas/io/formats/format.py:1459: RuntimeWarning: invalid value encountered in greater\n",
      "  has_small_values = ((abs_vals < 10 ** (-self.digits)) & (abs_vals > 0)).any()\n"
     ]
    },
    {
     "data": {
      "text/html": [
       "<div>\n",
       "<style scoped>\n",
       "    .dataframe tbody tr th:only-of-type {\n",
       "        vertical-align: middle;\n",
       "    }\n",
       "\n",
       "    .dataframe tbody tr th {\n",
       "        vertical-align: top;\n",
       "    }\n",
       "\n",
       "    .dataframe thead th {\n",
       "        text-align: right;\n",
       "    }\n",
       "</style>\n",
       "<table border=\"1\" class=\"dataframe\">\n",
       "  <thead>\n",
       "    <tr style=\"text-align: right;\">\n",
       "      <th></th>\n",
       "      <th>ID</th>\n",
       "      <th>Start time</th>\n",
       "      <th>Completion time</th>\n",
       "      <th>Email</th>\n",
       "      <th>Name</th>\n",
       "      <th>Last modified time</th>\n",
       "      <th>Gender</th>\n",
       "      <th>Age</th>\n",
       "      <th>Marital Status</th>\n",
       "      <th>Level of Education</th>\n",
       "      <th>...</th>\n",
       "      <th>Intent to LeaveI frequently think about leaving my current organization.</th>\n",
       "      <th>Intent to LeaveI have explored job opportunities outside my current organization.\\n</th>\n",
       "      <th>Intent to LeaveI will likely leave this organization in the next 12 months if the       opportunity arises.</th>\n",
       "      <th>Reasons for Potential TurnoverInadequate compensation is a major reason I would consider       leaving.\\n</th>\n",
       "      <th>Reasons for Potential TurnoverLack of career advancement opportunities is a major reason I would       consider leaving.\\n</th>\n",
       "      <th>Reasons for Potential TurnoverUnsatisfactory work environment or organizational culture is a       major reason I would consider leaving.\\n\\n</th>\n",
       "      <th>Reasons for Potential TurnoverFamily responsibilities or relocation concerns significantly       influence my decision to stay or leave.\\n</th>\n",
       "      <th>External Factors     The current economic situation in Nigeria affects my decision to       stay or leave.</th>\n",
       "      <th>External Factors  The availability of better job opportunities in the market would encourage me to change my job.\\n</th>\n",
       "      <th>I have left an organization for similar reasons as stated above.</th>\n",
       "    </tr>\n",
       "  </thead>\n",
       "  <tbody>\n",
       "    <tr>\n",
       "      <th>0</th>\n",
       "      <td>13</td>\n",
       "      <td>2025-01-06 11:43:18</td>\n",
       "      <td>2025-01-06 11:48:27</td>\n",
       "      <td>anonymous</td>\n",
       "      <td>NaN</td>\n",
       "      <td>NaN</td>\n",
       "      <td>Male</td>\n",
       "      <td>25 -34 years</td>\n",
       "      <td>Married</td>\n",
       "      <td>HND/BSc/Equivalent</td>\n",
       "      <td>...</td>\n",
       "      <td>5</td>\n",
       "      <td>5</td>\n",
       "      <td>2</td>\n",
       "      <td>1.0</td>\n",
       "      <td>5.0</td>\n",
       "      <td>5.0</td>\n",
       "      <td>1.0</td>\n",
       "      <td>1.0</td>\n",
       "      <td>5.0</td>\n",
       "      <td>Yes</td>\n",
       "    </tr>\n",
       "    <tr>\n",
       "      <th>1</th>\n",
       "      <td>49</td>\n",
       "      <td>2025-01-07 08:39:37</td>\n",
       "      <td>2025-01-07 08:45:37</td>\n",
       "      <td>anonymous</td>\n",
       "      <td>NaN</td>\n",
       "      <td>NaN</td>\n",
       "      <td>Male</td>\n",
       "      <td>25 -34 years</td>\n",
       "      <td>Single</td>\n",
       "      <td>HND/BSc/Equivalent</td>\n",
       "      <td>...</td>\n",
       "      <td>3</td>\n",
       "      <td>3</td>\n",
       "      <td>3</td>\n",
       "      <td>3.0</td>\n",
       "      <td>3.0</td>\n",
       "      <td>3.0</td>\n",
       "      <td>4.0</td>\n",
       "      <td>4.0</td>\n",
       "      <td>3.0</td>\n",
       "      <td>No</td>\n",
       "    </tr>\n",
       "    <tr>\n",
       "      <th>2</th>\n",
       "      <td>40</td>\n",
       "      <td>2025-01-06 21:55:05</td>\n",
       "      <td>2025-01-06 21:57:19</td>\n",
       "      <td>anonymous</td>\n",
       "      <td>NaN</td>\n",
       "      <td>NaN</td>\n",
       "      <td>Male</td>\n",
       "      <td>25 -34 years</td>\n",
       "      <td>Single</td>\n",
       "      <td>Senior Secondary School Certificate /Equivalent</td>\n",
       "      <td>...</td>\n",
       "      <td>3</td>\n",
       "      <td>2</td>\n",
       "      <td>4</td>\n",
       "      <td>3.0</td>\n",
       "      <td>4.0</td>\n",
       "      <td>5.0</td>\n",
       "      <td>3.0</td>\n",
       "      <td>2.0</td>\n",
       "      <td>5.0</td>\n",
       "      <td>Yes</td>\n",
       "    </tr>\n",
       "    <tr>\n",
       "      <th>3</th>\n",
       "      <td>32</td>\n",
       "      <td>2025-01-06 15:58:48</td>\n",
       "      <td>2025-01-06 16:10:24</td>\n",
       "      <td>anonymous</td>\n",
       "      <td>NaN</td>\n",
       "      <td>NaN</td>\n",
       "      <td>Male</td>\n",
       "      <td>Under 25 years</td>\n",
       "      <td>Single</td>\n",
       "      <td>HND/BSc/Equivalent</td>\n",
       "      <td>...</td>\n",
       "      <td>1</td>\n",
       "      <td>1</td>\n",
       "      <td>1</td>\n",
       "      <td>3.0</td>\n",
       "      <td>3.0</td>\n",
       "      <td>3.0</td>\n",
       "      <td>3.0</td>\n",
       "      <td>1.0</td>\n",
       "      <td>1.0</td>\n",
       "      <td>No</td>\n",
       "    </tr>\n",
       "    <tr>\n",
       "      <th>4</th>\n",
       "      <td>54</td>\n",
       "      <td>2025-01-07 09:48:06</td>\n",
       "      <td>2025-01-07 10:15:03</td>\n",
       "      <td>anonymous</td>\n",
       "      <td>NaN</td>\n",
       "      <td>NaN</td>\n",
       "      <td>Male</td>\n",
       "      <td>35 -44 years</td>\n",
       "      <td>Single</td>\n",
       "      <td>HND/BSc/Equivalent</td>\n",
       "      <td>...</td>\n",
       "      <td>4</td>\n",
       "      <td>4</td>\n",
       "      <td>4</td>\n",
       "      <td>5.0</td>\n",
       "      <td>5.0</td>\n",
       "      <td>1.0</td>\n",
       "      <td>5.0</td>\n",
       "      <td>5.0</td>\n",
       "      <td>5.0</td>\n",
       "      <td>No</td>\n",
       "    </tr>\n",
       "  </tbody>\n",
       "</table>\n",
       "<p>5 rows × 40 columns</p>\n",
       "</div>"
      ],
      "text/plain": [
       "   ID          Start time     Completion time      Email  Name  \\\n",
       "0  13 2025-01-06 11:43:18 2025-01-06 11:48:27  anonymous   NaN   \n",
       "1  49 2025-01-07 08:39:37 2025-01-07 08:45:37  anonymous   NaN   \n",
       "2  40 2025-01-06 21:55:05 2025-01-06 21:57:19  anonymous   NaN   \n",
       "3  32 2025-01-06 15:58:48 2025-01-06 16:10:24  anonymous   NaN   \n",
       "4  54 2025-01-07 09:48:06 2025-01-07 10:15:03  anonymous   NaN   \n",
       "\n",
       "   Last modified time Gender             Age Marital Status  \\\n",
       "0                 NaN   Male    25 -34 years        Married   \n",
       "1                 NaN   Male    25 -34 years         Single   \n",
       "2                 NaN   Male    25 -34 years         Single   \n",
       "3                 NaN   Male  Under 25 years         Single   \n",
       "4                 NaN   Male    35 -44 years         Single   \n",
       "\n",
       "                                Level of Education  ...  \\\n",
       "0                               HND/BSc/Equivalent  ...   \n",
       "1                               HND/BSc/Equivalent  ...   \n",
       "2  Senior Secondary School Certificate /Equivalent  ...   \n",
       "3                               HND/BSc/Equivalent  ...   \n",
       "4                               HND/BSc/Equivalent  ...   \n",
       "\n",
       "  Intent to LeaveI frequently think about leaving my current organization.  \\\n",
       "0                                                  5                         \n",
       "1                                                  3                         \n",
       "2                                                  3                         \n",
       "3                                                  1                         \n",
       "4                                                  4                         \n",
       "\n",
       "  Intent to LeaveI have explored job opportunities outside my current organization.\\n  \\\n",
       "0                                                  5                                    \n",
       "1                                                  3                                    \n",
       "2                                                  2                                    \n",
       "3                                                  1                                    \n",
       "4                                                  4                                    \n",
       "\n",
       "  Intent to LeaveI will likely leave this organization in the next 12 months if the       opportunity arises.  \\\n",
       "0                                                  2                                                            \n",
       "1                                                  3                                                            \n",
       "2                                                  4                                                            \n",
       "3                                                  1                                                            \n",
       "4                                                  4                                                            \n",
       "\n",
       "   Reasons for Potential TurnoverInadequate compensation is a major reason I would consider       leaving.\\n  \\\n",
       "0                                                1.0                                                           \n",
       "1                                                3.0                                                           \n",
       "2                                                3.0                                                           \n",
       "3                                                3.0                                                           \n",
       "4                                                5.0                                                           \n",
       "\n",
       "   Reasons for Potential TurnoverLack of career advancement opportunities is a major reason I would       consider leaving.\\n  \\\n",
       "0                                                5.0                                                                            \n",
       "1                                                3.0                                                                            \n",
       "2                                                4.0                                                                            \n",
       "3                                                3.0                                                                            \n",
       "4                                                5.0                                                                            \n",
       "\n",
       "   Reasons for Potential TurnoverUnsatisfactory work environment or organizational culture is a       major reason I would consider leaving.\\n\\n  \\\n",
       "0                                                5.0                                                                                               \n",
       "1                                                3.0                                                                                               \n",
       "2                                                5.0                                                                                               \n",
       "3                                                3.0                                                                                               \n",
       "4                                                1.0                                                                                               \n",
       "\n",
       "   Reasons for Potential TurnoverFamily responsibilities or relocation concerns significantly       influence my decision to stay or leave.\\n  \\\n",
       "0                                                1.0                                                                                            \n",
       "1                                                4.0                                                                                            \n",
       "2                                                3.0                                                                                            \n",
       "3                                                3.0                                                                                            \n",
       "4                                                5.0                                                                                            \n",
       "\n",
       "     External Factors     The current economic situation in Nigeria affects my decision to       stay or leave.  \\\n",
       "0                                                1.0                                                              \n",
       "1                                                4.0                                                              \n",
       "2                                                2.0                                                              \n",
       "3                                                1.0                                                              \n",
       "4                                                5.0                                                              \n",
       "\n",
       "   External Factors  The availability of better job opportunities in the market would encourage me to change my job.\\n  \\\n",
       "0                                                5.0                                                                     \n",
       "1                                                3.0                                                                     \n",
       "2                                                5.0                                                                     \n",
       "3                                                1.0                                                                     \n",
       "4                                                5.0                                                                     \n",
       "\n",
       "   I have left an organization for similar reasons as stated above.  \n",
       "0                                                Yes                 \n",
       "1                                                 No                 \n",
       "2                                                Yes                 \n",
       "3                                                 No                 \n",
       "4                                                 No                 \n",
       "\n",
       "[5 rows x 40 columns]"
      ]
     },
     "execution_count": 3,
     "metadata": {},
     "output_type": "execute_result"
    }
   ],
   "source": [
    "# Take a peek\n",
    "df.head()"
   ]
  },
  {
   "cell_type": "code",
   "execution_count": 4,
   "metadata": {
    "execution": {
     "iopub.execute_input": "2025-01-15T19:42:52.120738Z",
     "iopub.status.busy": "2025-01-15T19:42:52.120405Z",
     "iopub.status.idle": "2025-01-15T19:42:52.126577Z",
     "shell.execute_reply": "2025-01-15T19:42:52.125463Z",
     "shell.execute_reply.started": "2025-01-15T19:42:52.120713Z"
    },
    "trusted": true
   },
   "outputs": [
    {
     "data": {
      "text/plain": [
       "40"
      ]
     },
     "execution_count": 4,
     "metadata": {},
     "output_type": "execute_result"
    }
   ],
   "source": [
    "len(df.columns)"
   ]
  },
  {
   "cell_type": "code",
   "execution_count": 5,
   "metadata": {
    "execution": {
     "iopub.execute_input": "2025-01-15T19:42:59.341209Z",
     "iopub.status.busy": "2025-01-15T19:42:59.340776Z",
     "iopub.status.idle": "2025-01-15T19:42:59.347045Z",
     "shell.execute_reply": "2025-01-15T19:42:59.345994Z",
     "shell.execute_reply.started": "2025-01-15T19:42:59.341177Z"
    },
    "trusted": true
   },
   "outputs": [
    {
     "data": {
      "text/plain": [
       "(1000, 40)"
      ]
     },
     "execution_count": 5,
     "metadata": {},
     "output_type": "execute_result"
    }
   ],
   "source": [
    "df.shape"
   ]
  },
  {
   "cell_type": "code",
   "execution_count": 6,
   "metadata": {
    "execution": {
     "iopub.execute_input": "2025-01-15T19:43:20.580076Z",
     "iopub.status.busy": "2025-01-15T19:43:20.579684Z",
     "iopub.status.idle": "2025-01-15T19:43:20.584695Z",
     "shell.execute_reply": "2025-01-15T19:43:20.583515Z",
     "shell.execute_reply.started": "2025-01-15T19:43:20.580042Z"
    },
    "trusted": true
   },
   "outputs": [],
   "source": [
    "# columns we would be making use of\n",
    "features = ['Gender','Age','Marital Status','Level of Education','Work Experience (in years)','Number of Previous Organisation worked for','Current Job Level']"
   ]
  },
  {
   "cell_type": "code",
   "execution_count": 7,
   "metadata": {
    "execution": {
     "iopub.execute_input": "2025-01-15T19:43:49.629057Z",
     "iopub.status.busy": "2025-01-15T19:43:49.628451Z",
     "iopub.status.idle": "2025-01-15T19:43:49.635831Z",
     "shell.execute_reply": "2025-01-15T19:43:49.634134Z",
     "shell.execute_reply.started": "2025-01-15T19:43:49.629023Z"
    },
    "trusted": true
   },
   "outputs": [],
   "source": [
    "# split the data into features (inputs) and targets (outputs)\n",
    "y= df.pop('I have left an organization for similar reasons as stated above.')\n",
    "\n",
    "df=df[features]\n",
    "X = df"
   ]
  },
  {
   "cell_type": "code",
   "execution_count": 8,
   "metadata": {
    "execution": {
     "iopub.execute_input": "2025-01-15T19:43:59.150982Z",
     "iopub.status.busy": "2025-01-15T19:43:59.150594Z",
     "iopub.status.idle": "2025-01-15T19:43:59.163453Z",
     "shell.execute_reply": "2025-01-15T19:43:59.162098Z",
     "shell.execute_reply.started": "2025-01-15T19:43:59.150951Z"
    },
    "trusted": true
   },
   "outputs": [
    {
     "data": {
      "text/html": [
       "<div>\n",
       "<style scoped>\n",
       "    .dataframe tbody tr th:only-of-type {\n",
       "        vertical-align: middle;\n",
       "    }\n",
       "\n",
       "    .dataframe tbody tr th {\n",
       "        vertical-align: top;\n",
       "    }\n",
       "\n",
       "    .dataframe thead th {\n",
       "        text-align: right;\n",
       "    }\n",
       "</style>\n",
       "<table border=\"1\" class=\"dataframe\">\n",
       "  <thead>\n",
       "    <tr style=\"text-align: right;\">\n",
       "      <th></th>\n",
       "      <th>Gender</th>\n",
       "      <th>Age</th>\n",
       "      <th>Marital Status</th>\n",
       "      <th>Level of Education</th>\n",
       "      <th>Work Experience (in years)</th>\n",
       "      <th>Number of Previous Organisation worked for</th>\n",
       "      <th>Current Job Level</th>\n",
       "    </tr>\n",
       "  </thead>\n",
       "  <tbody>\n",
       "    <tr>\n",
       "      <th>0</th>\n",
       "      <td>Male</td>\n",
       "      <td>25 -34 years</td>\n",
       "      <td>Married</td>\n",
       "      <td>HND/BSc/Equivalent</td>\n",
       "      <td>4 -6 years</td>\n",
       "      <td>3</td>\n",
       "      <td>Senior staff (Levels 7 above)</td>\n",
       "    </tr>\n",
       "    <tr>\n",
       "      <th>1</th>\n",
       "      <td>Male</td>\n",
       "      <td>25 -34 years</td>\n",
       "      <td>Single</td>\n",
       "      <td>HND/BSc/Equivalent</td>\n",
       "      <td>1 -3 years</td>\n",
       "      <td>1</td>\n",
       "      <td>Senior staff (Levels 7 above)</td>\n",
       "    </tr>\n",
       "    <tr>\n",
       "      <th>2</th>\n",
       "      <td>Male</td>\n",
       "      <td>25 -34 years</td>\n",
       "      <td>Single</td>\n",
       "      <td>Senior Secondary School Certificate /Equivalent</td>\n",
       "      <td>1 -3 years</td>\n",
       "      <td>1</td>\n",
       "      <td>Junior staff (Levels 1 -6)</td>\n",
       "    </tr>\n",
       "    <tr>\n",
       "      <th>3</th>\n",
       "      <td>Male</td>\n",
       "      <td>Under 25 years</td>\n",
       "      <td>Single</td>\n",
       "      <td>HND/BSc/Equivalent</td>\n",
       "      <td>4 -6 years</td>\n",
       "      <td>1</td>\n",
       "      <td>Junior staff (Levels 1 -6)</td>\n",
       "    </tr>\n",
       "    <tr>\n",
       "      <th>4</th>\n",
       "      <td>Male</td>\n",
       "      <td>35 -44 years</td>\n",
       "      <td>Single</td>\n",
       "      <td>HND/BSc/Equivalent</td>\n",
       "      <td>4 -6 years</td>\n",
       "      <td>2</td>\n",
       "      <td>Junior staff (Levels 1 -6)</td>\n",
       "    </tr>\n",
       "  </tbody>\n",
       "</table>\n",
       "</div>"
      ],
      "text/plain": [
       "  Gender             Age Marital Status  \\\n",
       "0   Male    25 -34 years        Married   \n",
       "1   Male    25 -34 years         Single   \n",
       "2   Male    25 -34 years         Single   \n",
       "3   Male  Under 25 years         Single   \n",
       "4   Male    35 -44 years         Single   \n",
       "\n",
       "                                Level of Education Work Experience (in years)  \\\n",
       "0                               HND/BSc/Equivalent                 4 -6 years   \n",
       "1                               HND/BSc/Equivalent                 1 -3 years   \n",
       "2  Senior Secondary School Certificate /Equivalent                 1 -3 years   \n",
       "3                               HND/BSc/Equivalent                 4 -6 years   \n",
       "4                               HND/BSc/Equivalent                 4 -6 years   \n",
       "\n",
       "  Number of Previous Organisation worked for              Current Job Level  \n",
       "0                                          3  Senior staff (Levels 7 above)  \n",
       "1                                          1  Senior staff (Levels 7 above)  \n",
       "2                                          1     Junior staff (Levels 1 -6)  \n",
       "3                                          1     Junior staff (Levels 1 -6)  \n",
       "4                                          2     Junior staff (Levels 1 -6)  "
      ]
     },
     "execution_count": 8,
     "metadata": {},
     "output_type": "execute_result"
    }
   ],
   "source": [
    "X.head()"
   ]
  },
  {
   "cell_type": "code",
   "execution_count": 9,
   "metadata": {
    "execution": {
     "iopub.execute_input": "2025-01-15T19:44:09.499986Z",
     "iopub.status.busy": "2025-01-15T19:44:09.499599Z",
     "iopub.status.idle": "2025-01-15T19:44:09.505258Z",
     "shell.execute_reply": "2025-01-15T19:44:09.503706Z",
     "shell.execute_reply.started": "2025-01-15T19:44:09.499954Z"
    },
    "trusted": true
   },
   "outputs": [],
   "source": [
    "# get all the categorical columns\n",
    "categorical_features = X.select_dtypes(include=['object', 'category']).columns.tolist()"
   ]
  },
  {
   "cell_type": "code",
   "execution_count": 10,
   "metadata": {
    "execution": {
     "iopub.execute_input": "2025-01-15T19:44:44.207024Z",
     "iopub.status.busy": "2025-01-15T19:44:44.206617Z",
     "iopub.status.idle": "2025-01-15T19:44:44.221737Z",
     "shell.execute_reply": "2025-01-15T19:44:44.220701Z",
     "shell.execute_reply.started": "2025-01-15T19:44:44.206992Z"
    },
    "trusted": true
   },
   "outputs": [],
   "source": [
    "# Encode categorical features ( convert text data to numerical)\n",
    "encoder = OrdinalEncoder()\n",
    "X[categorical_features] = encoder.fit_transform(X[categorical_features])\n",
    "\n",
    "# Encode target\n",
    "label_encoder = LabelEncoder()\n",
    "y_encoded = label_encoder.fit_transform(y)"
   ]
  },
  {
   "cell_type": "code",
   "execution_count": 11,
   "metadata": {
    "execution": {
     "iopub.execute_input": "2025-01-15T19:44:52.111949Z",
     "iopub.status.busy": "2025-01-15T19:44:52.111557Z",
     "iopub.status.idle": "2025-01-15T19:44:52.119770Z",
     "shell.execute_reply": "2025-01-15T19:44:52.118562Z",
     "shell.execute_reply.started": "2025-01-15T19:44:52.111920Z"
    },
    "trusted": true
   },
   "outputs": [
    {
     "data": {
      "text/plain": [
       "array([1, 0, 1, 0, 0, 0, 1, 1, 0, 0, 1, 1, 0, 1, 0, 0, 0, 0, 0, 0, 0, 0,\n",
       "       0, 1, 0, 1, 0, 0, 0, 0, 0, 1, 0, 1, 0, 1, 0, 0, 1, 0, 1, 1, 1, 0,\n",
       "       0, 0, 0, 1, 0, 0, 0, 1, 0, 1, 1, 1, 1, 1, 0, 0, 0, 1, 0, 0, 0, 0,\n",
       "       0, 0, 0, 0, 1, 0, 0, 1, 1, 0, 1, 1, 1, 1, 1, 0, 0, 0, 0, 1, 0, 0,\n",
       "       0, 0, 0, 0, 0, 0, 1, 0, 1, 1, 0, 0, 0, 0, 1, 1, 1, 1, 1, 1, 0, 1,\n",
       "       1, 1, 0, 1, 0, 0, 0, 0, 1, 1, 1, 0, 0, 1, 1, 0, 1, 1, 0, 1, 0, 1,\n",
       "       0, 0, 0, 1, 0, 0, 1, 0, 0, 0, 1, 0, 1, 0, 0, 0, 0, 1, 0, 0, 0, 1,\n",
       "       1, 1, 0, 1, 0, 0, 0, 1, 0, 1, 1, 0, 0, 0, 0, 1, 1, 1, 1, 0, 0, 0,\n",
       "       1, 0, 1, 0, 1, 1, 1, 1, 0, 1, 0, 0, 1, 0, 0, 1, 0, 1, 0, 1, 1, 1,\n",
       "       1, 1, 1, 1, 0, 0, 1, 0, 0, 0, 0, 0, 0, 0, 1, 0, 0, 0, 0, 0, 1, 0,\n",
       "       0, 0, 1, 1, 1, 0, 0, 1, 0, 1, 1, 1, 0, 1, 1, 1, 0, 1, 1, 1, 1, 0,\n",
       "       0, 0, 1, 1, 0, 0, 0, 0, 1, 1, 1, 1, 1, 0, 1, 1, 0, 0, 0, 0, 1, 1,\n",
       "       1, 0, 1, 1, 0, 0, 0, 0, 0, 0, 1, 0, 1, 0, 1, 0, 0, 0, 0, 0, 0, 0,\n",
       "       1, 0, 1, 0, 0, 0, 1, 1, 0, 0, 1, 0, 0, 1, 1, 1, 1, 0, 0, 0, 1, 0,\n",
       "       1, 0, 0, 0, 1, 0, 1, 1, 1, 1, 0, 1, 1, 0, 0, 1, 1, 1, 1, 1, 1, 1,\n",
       "       0, 0, 0, 0, 1, 0, 1, 0, 0, 0, 0, 1, 1, 1, 1, 0, 0, 0, 1, 0, 1, 1,\n",
       "       0, 0, 0, 0, 0, 1, 1, 0, 0, 0, 0, 0, 0, 0, 1, 0, 0, 0, 1, 1, 1, 1,\n",
       "       0, 1, 1, 0, 0, 0, 0, 1, 0, 0, 1, 0, 1, 1, 1, 0, 1, 1, 0, 0, 1, 1,\n",
       "       0, 0, 0, 1, 1, 0, 1, 0, 0, 1, 0, 0, 0, 0, 0, 0, 0, 1, 0, 0, 1, 0,\n",
       "       1, 1, 1, 0, 0, 1, 1, 0, 1, 0, 1, 1, 0, 0, 0, 0, 0, 0, 1, 1, 0, 1,\n",
       "       0, 0, 0, 1, 1, 0, 0, 0, 0, 0, 1, 0, 1, 0, 1, 0, 0, 1, 1, 1, 1, 0,\n",
       "       1, 1, 0, 0, 1, 1, 1, 0, 0, 0, 0, 1, 1, 0, 0, 1, 1, 1, 0, 1, 1, 0,\n",
       "       0, 0, 1, 0, 0, 0, 1, 1, 0, 0, 1, 1, 0, 1, 1, 1, 1, 0, 0, 0, 0, 0,\n",
       "       1, 1, 1, 1, 1, 0, 0, 0, 0, 1, 0, 0, 1, 0, 0, 1, 0, 1, 0, 1, 0, 0,\n",
       "       1, 1, 0, 0, 1, 0, 0, 1, 1, 1, 0, 0, 1, 1, 1, 0, 1, 1, 1, 1, 0, 1,\n",
       "       1, 0, 1, 0, 1, 1, 0, 0, 1, 1, 0, 1, 1, 1, 1, 0, 1, 0, 0, 0, 0, 0,\n",
       "       1, 0, 0, 0, 1, 1, 0, 1, 0, 1, 1, 1, 1, 1, 0, 1, 0, 0, 1, 1, 1, 1,\n",
       "       1, 0, 1, 0, 0, 1, 0, 1, 0, 0, 1, 0, 1, 0, 1, 0, 0, 1, 1, 0, 1, 1,\n",
       "       0, 0, 1, 0, 1, 0, 1, 1, 0, 0, 1, 1, 0, 1, 0, 1, 1, 0, 1, 0, 1, 0,\n",
       "       1, 0, 0, 1, 1, 0, 0, 1, 0, 1, 0, 1, 0, 0, 1, 1, 1, 0, 1, 1, 0, 0,\n",
       "       0, 0, 0, 0, 0, 1, 0, 0, 0, 1, 0, 0, 0, 0, 0, 0, 1, 0, 1, 0, 0, 1,\n",
       "       0, 0, 1, 1, 0, 1, 0, 0, 0, 1, 0, 0, 1, 0, 0, 1, 0, 1, 0, 1, 0, 1,\n",
       "       1, 1, 0, 1, 0, 0, 0, 1, 0, 0, 0, 1, 0, 0, 0, 0, 0, 1, 0, 0, 1, 0,\n",
       "       1, 0, 0, 1, 1, 0, 1, 1, 0, 1, 0, 0, 0, 0, 1, 0, 0, 1, 1, 1, 0, 0,\n",
       "       1, 1, 0, 0, 1, 1, 1, 0, 0, 0, 0, 0, 0, 0, 0, 0, 1, 0, 1, 0, 1, 1,\n",
       "       0, 0, 0, 0, 0, 0, 0, 1, 0, 1, 1, 1, 0, 0, 0, 0, 1, 0, 0, 0, 1, 0,\n",
       "       0, 0, 0, 1, 1, 0, 0, 1, 0, 0, 1, 1, 0, 0, 0, 1, 1, 0, 1, 1, 0, 0,\n",
       "       1, 1, 1, 0, 1, 0, 0, 1, 1, 1, 1, 0, 0, 1, 0, 1, 0, 0, 1, 1, 1, 1,\n",
       "       1, 1, 0, 0, 0, 1, 1, 1, 1, 0, 0, 0, 0, 1, 1, 0, 1, 1, 1, 0, 1, 0,\n",
       "       1, 1, 1, 0, 0, 0, 1, 0, 0, 0, 0, 0, 1, 0, 0, 0, 0, 0, 0, 0, 0, 0,\n",
       "       0, 1, 1, 0, 0, 0, 1, 0, 0, 1, 1, 0, 0, 1, 0, 1, 0, 0, 0, 0, 1, 1,\n",
       "       1, 1, 0, 0, 0, 1, 1, 1, 1, 0, 0, 1, 0, 0, 0, 1, 0, 1, 1, 0, 0, 1,\n",
       "       0, 0, 0, 0, 1, 1, 0, 1, 0, 0, 1, 0, 1, 0, 0, 0, 0, 0, 1, 1, 1, 1,\n",
       "       0, 0, 0, 1, 0, 0, 0, 1, 1, 0, 1, 0, 0, 0, 1, 1, 0, 0, 0, 0, 1, 1,\n",
       "       0, 0, 1, 0, 1, 1, 1, 1, 1, 0, 1, 1, 0, 1, 1, 1, 1, 0, 0, 0, 1, 0,\n",
       "       1, 1, 0, 1, 1, 0, 1, 0, 0, 1])"
      ]
     },
     "execution_count": 11,
     "metadata": {},
     "output_type": "execute_result"
    }
   ],
   "source": [
    "# label transformed from categorical ('Yes','No') to (1,0)\n",
    "y_encoded"
   ]
  },
  {
   "cell_type": "code",
   "execution_count": 12,
   "metadata": {
    "execution": {
     "iopub.execute_input": "2025-01-15T19:45:00.540596Z",
     "iopub.status.busy": "2025-01-15T19:45:00.540268Z",
     "iopub.status.idle": "2025-01-15T19:45:00.548324Z",
     "shell.execute_reply": "2025-01-15T19:45:00.546946Z",
     "shell.execute_reply.started": "2025-01-15T19:45:00.540571Z"
    },
    "trusted": true
   },
   "outputs": [],
   "source": [
    "corr_data = X.copy()\n",
    "corr_data['target'] = y_encoded"
   ]
  },
  {
   "cell_type": "code",
   "execution_count": 13,
   "metadata": {
    "execution": {
     "iopub.execute_input": "2025-01-15T19:45:09.810001Z",
     "iopub.status.busy": "2025-01-15T19:45:09.809641Z",
     "iopub.status.idle": "2025-01-15T19:45:10.331943Z",
     "shell.execute_reply": "2025-01-15T19:45:10.330653Z",
     "shell.execute_reply.started": "2025-01-15T19:45:09.809973Z"
    },
    "trusted": true
   },
   "outputs": [
    {
     "data": {
      "text/plain": [
       "<Axes: >"
      ]
     },
     "execution_count": 13,
     "metadata": {},
     "output_type": "execute_result"
    },
    {
     "data": {
      "image/png": "[encoded data removed]",
      "text/plain": [
       "<Figure size 640x480 with 2 Axes>"
      ]
     },
     "metadata": {},
     "output_type": "display_data"
    }
   ],
   "source": [
    "sns.heatmap(corr_data.corr(),cmap=\"RdYlGn\")"
   ]
  },
  {
   "cell_type": "markdown",
   "metadata": {},
   "source": [
    "### The heat map above shows the correlation of the columns including the target with each other. values closer to green are highly correlated while values closer to red have low correlation"
   ]
  },
  {
   "cell_type": "code",
   "execution_count": 14,
   "metadata": {
    "execution": {
     "iopub.execute_input": "2025-01-15T19:45:46.771058Z",
     "iopub.status.busy": "2025-01-15T19:45:46.770640Z",
     "iopub.status.idle": "2025-01-15T19:45:46.779060Z",
     "shell.execute_reply": "2025-01-15T19:45:46.777686Z",
     "shell.execute_reply.started": "2025-01-15T19:45:46.771025Z"
    },
    "trusted": true
   },
   "outputs": [],
   "source": [
    "X_train, X_test, y_train, y_test = train_test_split(X, y_encoded, test_size=0.2, random_state=42)"
   ]
  },
  {
   "cell_type": "code",
   "execution_count": 15,
   "metadata": {
    "execution": {
     "iopub.execute_input": "2025-01-15T19:46:23.988282Z",
     "iopub.status.busy": "2025-01-15T19:46:23.987927Z",
     "iopub.status.idle": "2025-01-15T19:46:30.476382Z",
     "shell.execute_reply": "2025-01-15T19:46:30.475155Z",
     "shell.execute_reply.started": "2025-01-15T19:46:23.988253Z"
    },
    "trusted": true
   },
   "outputs": [
    {
     "name": "stdout",
     "output_type": "stream",
     "text": [
      "Collecting tabpfn\n",
      "  Downloading tabpfn-2.0.3-py3-none-any.whl.metadata (7.0 kB)\n",
      "Requirement already satisfied: torch>=2.1 in /usr/local/lib/python3.10/dist-packages (from tabpfn) (2.5.1+cu121)\n",
      "Requirement already satisfied: scikit-learn>=1 in /usr/local/lib/python3.10/dist-packages (from tabpfn) (1.2.2)\n",
      "Requirement already satisfied: typing_extensions in /usr/local/lib/python3.10/dist-packages (from tabpfn) (4.12.2)\n",
      "Requirement already satisfied: scipy in /usr/local/lib/python3.10/dist-packages (from tabpfn) (1.13.1)\n",
      "Requirement already satisfied: pandas in /usr/local/lib/python3.10/dist-packages (from tabpfn) (2.2.2)\n",
      "Requirement already satisfied: einops in /usr/local/lib/python3.10/dist-packages (from tabpfn) (0.8.0)\n",
      "Requirement already satisfied: huggingface-hub in /usr/local/lib/python3.10/dist-packages (from tabpfn) (0.27.0)\n",
      "Requirement already satisfied: numpy>=1.17.3 in /usr/local/lib/python3.10/dist-packages (from scikit-learn>=1->tabpfn) (1.26.4)\n",
      "Requirement already satisfied: joblib>=1.1.1 in /usr/local/lib/python3.10/dist-packages (from scikit-learn>=1->tabpfn) (1.4.2)\n",
      "Requirement already satisfied: threadpoolctl>=2.0.0 in /usr/local/lib/python3.10/dist-packages (from scikit-learn>=1->tabpfn) (3.5.0)\n",
      "Requirement already satisfied: filelock in /usr/local/lib/python3.10/dist-packages (from torch>=2.1->tabpfn) (3.16.1)\n",
      "Requirement already satisfied: networkx in /usr/local/lib/python3.10/dist-packages (from torch>=2.1->tabpfn) (3.4.2)\n",
      "Requirement already satisfied: jinja2 in /usr/local/lib/python3.10/dist-packages (from torch>=2.1->tabpfn) (3.1.4)\n",
      "Requirement already satisfied: fsspec in /usr/local/lib/python3.10/dist-packages (from torch>=2.1->tabpfn) (2024.9.0)\n",
      "Requirement already satisfied: sympy==1.13.1 in /usr/local/lib/python3.10/dist-packages (from torch>=2.1->tabpfn) (1.13.1)\n",
      "Requirement already satisfied: mpmath<1.4,>=1.1.0 in /usr/local/lib/python3.10/dist-packages (from sympy==1.13.1->torch>=2.1->tabpfn) (1.3.0)\n",
      "Requirement already satisfied: packaging>=20.9 in /usr/local/lib/python3.10/dist-packages (from huggingface-hub->tabpfn) (24.2)\n",
      "Requirement already satisfied: pyyaml>=5.1 in /usr/local/lib/python3.10/dist-packages (from huggingface-hub->tabpfn) (6.0.2)\n",
      "Requirement already satisfied: requests in /usr/local/lib/python3.10/dist-packages (from huggingface-hub->tabpfn) (2.32.3)\n",
      "Requirement already satisfied: tqdm>=4.42.1 in /usr/local/lib/python3.10/dist-packages (from huggingface-hub->tabpfn) (4.67.1)\n",
      "Requirement already satisfied: python-dateutil>=2.8.2 in /usr/local/lib/python3.10/dist-packages (from pandas->tabpfn) (2.8.2)\n",
      "Requirement already satisfied: pytz>=2020.1 in /usr/local/lib/python3.10/dist-packages (from pandas->tabpfn) (2024.2)\n",
      "Requirement already satisfied: tzdata>=2022.7 in /usr/local/lib/python3.10/dist-packages (from pandas->tabpfn) (2024.2)\n",
      "Requirement already satisfied: mkl_fft in /usr/local/lib/python3.10/dist-packages (from numpy>=1.17.3->scikit-learn>=1->tabpfn) (1.3.8)\n",
      "Requirement already satisfied: mkl_random in /usr/local/lib/python3.10/dist-packages (from numpy>=1.17.3->scikit-learn>=1->tabpfn) (1.2.4)\n",
      "Requirement already satisfied: mkl_umath in /usr/local/lib/python3.10/dist-packages (from numpy>=1.17.3->scikit-learn>=1->tabpfn) (0.1.1)\n",
      "Requirement already satisfied: mkl in /usr/local/lib/python3.10/dist-packages (from numpy>=1.17.3->scikit-learn>=1->tabpfn) (2025.0.1)\n",
      "Requirement already satisfied: tbb4py in /usr/local/lib/python3.10/dist-packages (from numpy>=1.17.3->scikit-learn>=1->tabpfn) (2022.0.0)\n",
      "Requirement already satisfied: mkl-service in /usr/local/lib/python3.10/dist-packages (from numpy>=1.17.3->scikit-learn>=1->tabpfn) (2.4.1)\n",
      "Requirement already satisfied: six>=1.5 in /usr/local/lib/python3.10/dist-packages (from python-dateutil>=2.8.2->pandas->tabpfn) (1.17.0)\n",
      "Requirement already satisfied: MarkupSafe>=2.0 in /usr/local/lib/python3.10/dist-packages (from jinja2->torch>=2.1->tabpfn) (3.0.2)\n",
      "Requirement already satisfied: charset-normalizer<4,>=2 in /usr/local/lib/python3.10/dist-packages (from requests->huggingface-hub->tabpfn) (3.4.0)\n",
      "Requirement already satisfied: idna<4,>=2.5 in /usr/local/lib/python3.10/dist-packages (from requests->huggingface-hub->tabpfn) (3.10)\n",
      "Requirement already satisfied: urllib3<3,>=1.21.1 in /usr/local/lib/python3.10/dist-packages (from requests->huggingface-hub->tabpfn) (2.2.3)\n",
      "Requirement already satisfied: certifi>=2017.4.17 in /usr/local/lib/python3.10/dist-packages (from requests->huggingface-hub->tabpfn) (2024.12.14)\n",
      "Requirement already satisfied: intel-openmp>=2024 in /usr/local/lib/python3.10/dist-packages (from mkl->numpy>=1.17.3->scikit-learn>=1->tabpfn) (2024.2.0)\n",
      "Requirement already satisfied: tbb==2022.* in /usr/local/lib/python3.10/dist-packages (from mkl->numpy>=1.17.3->scikit-learn>=1->tabpfn) (2022.0.0)\n",
      "Requirement already satisfied: tcmlib==1.* in /usr/local/lib/python3.10/dist-packages (from tbb==2022.*->mkl->numpy>=1.17.3->scikit-learn>=1->tabpfn) (1.2.0)\n",
      "Requirement already satisfied: intel-cmplr-lib-rt in /usr/local/lib/python3.10/dist-packages (from mkl_umath->numpy>=1.17.3->scikit-learn>=1->tabpfn) (2024.2.0)\n",
      "Requirement already satisfied: intel-cmplr-lib-ur==2024.2.0 in /usr/local/lib/python3.10/dist-packages (from intel-openmp>=2024->mkl->numpy>=1.17.3->scikit-learn>=1->tabpfn) (2024.2.0)\n",
      "Downloading tabpfn-2.0.3-py3-none-any.whl (104 kB)\n",
      "\u001b[2K   \u001b[90m━━━━━━━━━━━━━━━━━━━━━━━━━━━━━━━━━━━━━━━━\u001b[0m \u001b[32m104.5/104.5 kB\u001b[0m \u001b[31m3.1 MB/s\u001b[0m eta \u001b[36m0:00:00\u001b[0m\n",
      "\u001b[?25hInstalling collected packages: tabpfn\n",
      "Successfully installed tabpfn-2.0.3\n"
     ]
    }
   ],
   "source": [
    "# install tabpfn\n",
    "!pip install tabpfn"
   ]
  },
  {
   "cell_type": "code",
   "execution_count": 17,
   "metadata": {
    "execution": {
     "iopub.execute_input": "2025-01-15T19:48:03.651984Z",
     "iopub.status.busy": "2025-01-15T19:48:03.651310Z",
     "iopub.status.idle": "2025-01-15T19:48:25.986002Z",
     "shell.execute_reply": "2025-01-15T19:48:25.984856Z",
     "shell.execute_reply.started": "2025-01-15T19:48:03.651934Z"
    },
    "trusted": true
   },
   "outputs": [
    {
     "name": "stdout",
     "output_type": "stream",
     "text": [
      "Accuracy: 95.00%\n"
     ]
    }
   ],
   "source": [
    "from tabpfn import TabPFNClassifier\n",
    "from sklearn.metrics import accuracy_score\n",
    "\n",
    "classifier = TabPFNClassifier(device='cpu')\n",
    "\n",
    "classifier.fit(X_train, y_train)\n",
    "y_pred = classifier.predict(X_test)\n",
    "accuracy = accuracy_score(y_test, y_pred)\n",
    "print(f\"Accuracy: {accuracy * 100:.2f}%\")"
   ]
  },
  {
   "cell_type": "code",
   "execution_count": 21,
   "metadata": {
    "execution": {
     "iopub.execute_input": "2025-01-15T19:50:00.596328Z",
     "iopub.status.busy": "2025-01-15T19:50:00.595929Z",
     "iopub.status.idle": "2025-01-15T19:50:00.610346Z",
     "shell.execute_reply": "2025-01-15T19:50:00.609354Z",
     "shell.execute_reply.started": "2025-01-15T19:50:00.596297Z"
    },
    "trusted": true
   },
   "outputs": [],
   "source": [
    "from sklearn.metrics import classification_report\n",
    "# Generate the classification report\n",
    "report = classification_report(y_test, y_pred, output_dict=True)"
   ]
  },
  {
   "cell_type": "code",
   "execution_count": 22,
   "metadata": {
    "execution": {
     "iopub.execute_input": "2025-01-15T19:50:02.550179Z",
     "iopub.status.busy": "2025-01-15T19:50:02.549774Z",
     "iopub.status.idle": "2025-01-15T19:50:02.557962Z",
     "shell.execute_reply": "2025-01-15T19:50:02.556286Z",
     "shell.execute_reply.started": "2025-01-15T19:50:02.550149Z"
    },
    "trusted": true
   },
   "outputs": [],
   "source": [
    "# Function to plot classification report with support\n",
    "def plot_classification_report_with_support(report):\n",
    "    labels = list(report.keys())[:-3]  # Exclude 'accuracy', 'macro avg', 'weighted avg'\n",
    "    metrics = ['precision', 'recall', 'f1-score', 'support']\n",
    "    data = np.array([[report[label][metric] for metric in metrics] for label in labels])\n",
    "    fig, ax = plt.subplots(figsize=(12, 6))\n",
    "    cax = ax.matshow(data, cmap='coolwarm')\n",
    "    plt.xticks(range(len(metrics)), metrics)\n",
    "    plt.yticks(range(len(labels)), labels)\n",
    "    plt.colorbar(cax)\n",
    "    # Adding the text\n",
    "    for (i, j), val in np.ndenumerate(data):\n",
    "        ax.text(j, i, f'{val:.2f}', ha='center', va='center', color='white')\n",
    "    plt.xlabel('Metrics')\n",
    "    plt.ylabel('Classes')\n",
    "    plt.title('Classification Report with Support')\n",
    "    plt.show()"
   ]
  },
  {
   "cell_type": "code",
   "execution_count": 23,
   "metadata": {
    "execution": {
     "iopub.execute_input": "2025-01-15T19:50:14.023984Z",
     "iopub.status.busy": "2025-01-15T19:50:14.023604Z",
     "iopub.status.idle": "2025-01-15T19:50:14.323347Z",
     "shell.execute_reply": "2025-01-15T19:50:14.322243Z",
     "shell.execute_reply.started": "2025-01-15T19:50:14.023953Z"
    },
    "trusted": true
   },
   "outputs": [
    {
     "data": {
      "image/png": "[encoded data removed]",
      "text/plain": [
       "<Figure size 1200x600 with 2 Axes>"
      ]
     },
     "metadata": {},
     "output_type": "display_data"
    }
   ],
   "source": [
    "# Plotting the classification report with support\n",
    "plot_classification_report_with_support(report)"
   ]
  },
  {
   "cell_type": "code",
   "execution_count": 24,
   "metadata": {
    "execution": {
     "iopub.execute_input": "2025-01-15T19:50:30.689738Z",
     "iopub.status.busy": "2025-01-15T19:50:30.689412Z",
     "iopub.status.idle": "2025-01-15T19:50:30.698108Z",
     "shell.execute_reply": "2025-01-15T19:50:30.697075Z",
     "shell.execute_reply.started": "2025-01-15T19:50:30.689713Z"
    },
    "trusted": true
   },
   "outputs": [
    {
     "data": {
      "text/plain": [
       "array([[ 84,   0],\n",
       "       [ 10, 106]])"
      ]
     },
     "execution_count": 24,
     "metadata": {},
     "output_type": "execute_result"
    }
   ],
   "source": [
    "from sklearn.metrics import confusion_matrix \n",
    "\n",
    "cm = confusion_matrix(y_test, y_pred, labels=[1, 0])\n",
    "cm"
   ]
  },
  {
   "cell_type": "code",
   "execution_count": 25,
   "metadata": {
    "execution": {
     "iopub.execute_input": "2025-01-15T19:50:41.573759Z",
     "iopub.status.busy": "2025-01-15T19:50:41.573393Z",
     "iopub.status.idle": "2025-01-15T19:50:41.578167Z",
     "shell.execute_reply": "2025-01-15T19:50:41.576941Z",
     "shell.execute_reply.started": "2025-01-15T19:50:41.573728Z"
    },
    "trusted": true
   },
   "outputs": [],
   "source": [
    "labels = ['Yes', 'No']"
   ]
  },
  {
   "cell_type": "code",
   "execution_count": 26,
   "metadata": {
    "execution": {
     "iopub.execute_input": "2025-01-15T19:50:49.650041Z",
     "iopub.status.busy": "2025-01-15T19:50:49.649646Z",
     "iopub.status.idle": "2025-01-15T19:50:49.873888Z",
     "shell.execute_reply": "2025-01-15T19:50:49.872845Z",
     "shell.execute_reply.started": "2025-01-15T19:50:49.649998Z"
    },
    "trusted": true
   },
   "outputs": [
    {
     "data": {
      "image/png": "[encoded data removed]",
      "text/plain": [
       "<Figure size 800x800 with 2 Axes>"
      ]
     },
     "metadata": {},
     "output_type": "display_data"
    }
   ],
   "source": [
    "plt.figure(figsize=(8, 8))\n",
    "sns.heatmap(cm, annot=True, fmt=\"d\",  xticklabels=labels, yticklabels=labels)\n",
    "plt.title(\"Confusion Matrix\")\n",
    "plt.xlabel(\"Predicted Labels\")\n",
    "plt.ylabel(\"True Labels\")\n",
    "plt.show()"
   ]
  },
  {
   "cell_type": "code",
   "execution_count": null,
   "metadata": {
    "trusted": true
   },
   "outputs": [],
   "source": []
  }
 ],
 "metadata": {
  "kaggle": {
   "accelerator": "none",
   "dataSources": [
    {
     "datasetId": 6486719,
     "sourceId": 10475872,
     "sourceType": "datasetVersion"
    }
   ],
   "dockerImageVersionId": 30839,
   "isGpuEnabled": false,
   "isInternetEnabled": true,
   "language": "python",
   "sourceType": "notebook"
  },
  "kernelspec": {
   "display_name": "Python 3",
   "language": "python",
   "name": "python3"
  },
  "language_info": {
   "codemirror_mode": {
    "name": "ipython",
    "version": 3
   },
   "file_extension": ".py",
   "mimetype": "text/x-python",
   "name": "python",
   "nbconvert_exporter": "python",
   "pygments_lexer": "ipython3",
   "version": "3.10.12"
  }
 },
 "nbformat": 4,
 "nbformat_minor": 4
}
